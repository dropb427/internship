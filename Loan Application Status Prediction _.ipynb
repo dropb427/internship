{
 "cells": [
  {
   "cell_type": "markdown",
   "id": "f51655bd",
   "metadata": {},
   "source": [
    "# Loan Application Status Prediction"
   ]
  },
  {
   "cell_type": "code",
   "execution_count": null,
   "id": "eb7cd4de",
   "metadata": {},
   "outputs": [],
   "source": []
  },
  {
   "cell_type": "code",
   "execution_count": null,
   "id": "96a4f7e5",
   "metadata": {},
   "outputs": [],
   "source": []
  },
  {
   "cell_type": "markdown",
   "id": "0eb20075",
   "metadata": {},
   "source": [
    "# Importing Libraries"
   ]
  },
  {
   "cell_type": "code",
   "execution_count": 47,
   "id": "fb0523dc",
   "metadata": {},
   "outputs": [],
   "source": [
    "import pandas as pd\n",
    "import numpy as np\n",
    "import seaborn as sns\n",
    "import matplotlib.pyplot as plt\n",
    "import warnings\n",
    "warnings.filterwarnings('ignore')\n",
    "import scipy.stats as stats\n",
    "from scipy.stats import zscore\n",
    "\n",
    "from sklearn.preprocessing import LabelEncoder\n",
    "from sklearn.metrics import accuracy_score, confusion_matrix, classification_report\n",
    "\n",
    "\n",
    "from sklearn.preprocessing import StandardScaler\n",
    "from sklearn.model_selection import train_test_split\n",
    "\n",
    "from sklearn.tree import DecisionTreeClassifier\n",
    "from sklearn.ensemble import RandomForestClassifier\n",
    "from sklearn.ensemble import ExtraTreesClassifier\n",
    "from sklearn.neighbors import KNeighborsClassifier\n",
    "\n",
    "from sklearn import metrics\n",
    "from sklearn.metrics import classification_report\n",
    "from sklearn.metrics import accuracy_score\n",
    "from sklearn.model_selection import cross_val_score\n",
    "from sklearn.model_selection import GridSearchCV"
   ]
  },
  {
   "cell_type": "markdown",
   "id": "7d5579d5",
   "metadata": {},
   "source": [
    "# Load Dataset"
   ]
  },
  {
   "cell_type": "code",
   "execution_count": 2,
   "id": "e4127307",
   "metadata": {},
   "outputs": [],
   "source": [
    "df = pd.read_csv('Loan.csv')\n"
   ]
  },
  {
   "cell_type": "code",
   "execution_count": 3,
   "id": "191f31f3",
   "metadata": {},
   "outputs": [
    {
     "data": {
      "text/html": [
       "<div>\n",
       "<style scoped>\n",
       "    .dataframe tbody tr th:only-of-type {\n",
       "        vertical-align: middle;\n",
       "    }\n",
       "\n",
       "    .dataframe tbody tr th {\n",
       "        vertical-align: top;\n",
       "    }\n",
       "\n",
       "    .dataframe thead th {\n",
       "        text-align: right;\n",
       "    }\n",
       "</style>\n",
       "<table border=\"1\" class=\"dataframe\">\n",
       "  <thead>\n",
       "    <tr style=\"text-align: right;\">\n",
       "      <th></th>\n",
       "      <th>Loan_ID</th>\n",
       "      <th>Gender</th>\n",
       "      <th>Married</th>\n",
       "      <th>Dependents</th>\n",
       "      <th>Education</th>\n",
       "      <th>Self_Employed</th>\n",
       "      <th>ApplicantIncome</th>\n",
       "      <th>CoapplicantIncome</th>\n",
       "      <th>LoanAmount</th>\n",
       "      <th>Loan_Amount_Term</th>\n",
       "      <th>Credit_History</th>\n",
       "      <th>Property_Area</th>\n",
       "      <th>Loan_Status</th>\n",
       "    </tr>\n",
       "  </thead>\n",
       "  <tbody>\n",
       "    <tr>\n",
       "      <th>0</th>\n",
       "      <td>LP001002</td>\n",
       "      <td>Male</td>\n",
       "      <td>No</td>\n",
       "      <td>0</td>\n",
       "      <td>Graduate</td>\n",
       "      <td>No</td>\n",
       "      <td>5849</td>\n",
       "      <td>0.0</td>\n",
       "      <td>NaN</td>\n",
       "      <td>360.0</td>\n",
       "      <td>1.0</td>\n",
       "      <td>Urban</td>\n",
       "      <td>Y</td>\n",
       "    </tr>\n",
       "    <tr>\n",
       "      <th>1</th>\n",
       "      <td>LP001003</td>\n",
       "      <td>Male</td>\n",
       "      <td>Yes</td>\n",
       "      <td>1</td>\n",
       "      <td>Graduate</td>\n",
       "      <td>No</td>\n",
       "      <td>4583</td>\n",
       "      <td>1508.0</td>\n",
       "      <td>128.0</td>\n",
       "      <td>360.0</td>\n",
       "      <td>1.0</td>\n",
       "      <td>Rural</td>\n",
       "      <td>N</td>\n",
       "    </tr>\n",
       "    <tr>\n",
       "      <th>2</th>\n",
       "      <td>LP001005</td>\n",
       "      <td>Male</td>\n",
       "      <td>Yes</td>\n",
       "      <td>0</td>\n",
       "      <td>Graduate</td>\n",
       "      <td>Yes</td>\n",
       "      <td>3000</td>\n",
       "      <td>0.0</td>\n",
       "      <td>66.0</td>\n",
       "      <td>360.0</td>\n",
       "      <td>1.0</td>\n",
       "      <td>Urban</td>\n",
       "      <td>Y</td>\n",
       "    </tr>\n",
       "    <tr>\n",
       "      <th>3</th>\n",
       "      <td>LP001006</td>\n",
       "      <td>Male</td>\n",
       "      <td>Yes</td>\n",
       "      <td>0</td>\n",
       "      <td>Not Graduate</td>\n",
       "      <td>No</td>\n",
       "      <td>2583</td>\n",
       "      <td>2358.0</td>\n",
       "      <td>120.0</td>\n",
       "      <td>360.0</td>\n",
       "      <td>1.0</td>\n",
       "      <td>Urban</td>\n",
       "      <td>Y</td>\n",
       "    </tr>\n",
       "    <tr>\n",
       "      <th>4</th>\n",
       "      <td>LP001008</td>\n",
       "      <td>Male</td>\n",
       "      <td>No</td>\n",
       "      <td>0</td>\n",
       "      <td>Graduate</td>\n",
       "      <td>No</td>\n",
       "      <td>6000</td>\n",
       "      <td>0.0</td>\n",
       "      <td>141.0</td>\n",
       "      <td>360.0</td>\n",
       "      <td>1.0</td>\n",
       "      <td>Urban</td>\n",
       "      <td>Y</td>\n",
       "    </tr>\n",
       "    <tr>\n",
       "      <th>...</th>\n",
       "      <td>...</td>\n",
       "      <td>...</td>\n",
       "      <td>...</td>\n",
       "      <td>...</td>\n",
       "      <td>...</td>\n",
       "      <td>...</td>\n",
       "      <td>...</td>\n",
       "      <td>...</td>\n",
       "      <td>...</td>\n",
       "      <td>...</td>\n",
       "      <td>...</td>\n",
       "      <td>...</td>\n",
       "      <td>...</td>\n",
       "    </tr>\n",
       "    <tr>\n",
       "      <th>609</th>\n",
       "      <td>LP002978</td>\n",
       "      <td>Female</td>\n",
       "      <td>No</td>\n",
       "      <td>0</td>\n",
       "      <td>Graduate</td>\n",
       "      <td>No</td>\n",
       "      <td>2900</td>\n",
       "      <td>0.0</td>\n",
       "      <td>71.0</td>\n",
       "      <td>360.0</td>\n",
       "      <td>1.0</td>\n",
       "      <td>Rural</td>\n",
       "      <td>Y</td>\n",
       "    </tr>\n",
       "    <tr>\n",
       "      <th>610</th>\n",
       "      <td>LP002979</td>\n",
       "      <td>Male</td>\n",
       "      <td>Yes</td>\n",
       "      <td>3+</td>\n",
       "      <td>Graduate</td>\n",
       "      <td>No</td>\n",
       "      <td>4106</td>\n",
       "      <td>0.0</td>\n",
       "      <td>40.0</td>\n",
       "      <td>180.0</td>\n",
       "      <td>1.0</td>\n",
       "      <td>Rural</td>\n",
       "      <td>Y</td>\n",
       "    </tr>\n",
       "    <tr>\n",
       "      <th>611</th>\n",
       "      <td>LP002983</td>\n",
       "      <td>Male</td>\n",
       "      <td>Yes</td>\n",
       "      <td>1</td>\n",
       "      <td>Graduate</td>\n",
       "      <td>No</td>\n",
       "      <td>8072</td>\n",
       "      <td>240.0</td>\n",
       "      <td>253.0</td>\n",
       "      <td>360.0</td>\n",
       "      <td>1.0</td>\n",
       "      <td>Urban</td>\n",
       "      <td>Y</td>\n",
       "    </tr>\n",
       "    <tr>\n",
       "      <th>612</th>\n",
       "      <td>LP002984</td>\n",
       "      <td>Male</td>\n",
       "      <td>Yes</td>\n",
       "      <td>2</td>\n",
       "      <td>Graduate</td>\n",
       "      <td>No</td>\n",
       "      <td>7583</td>\n",
       "      <td>0.0</td>\n",
       "      <td>187.0</td>\n",
       "      <td>360.0</td>\n",
       "      <td>1.0</td>\n",
       "      <td>Urban</td>\n",
       "      <td>Y</td>\n",
       "    </tr>\n",
       "    <tr>\n",
       "      <th>613</th>\n",
       "      <td>LP002990</td>\n",
       "      <td>Female</td>\n",
       "      <td>No</td>\n",
       "      <td>0</td>\n",
       "      <td>Graduate</td>\n",
       "      <td>Yes</td>\n",
       "      <td>4583</td>\n",
       "      <td>0.0</td>\n",
       "      <td>133.0</td>\n",
       "      <td>360.0</td>\n",
       "      <td>0.0</td>\n",
       "      <td>Semiurban</td>\n",
       "      <td>N</td>\n",
       "    </tr>\n",
       "  </tbody>\n",
       "</table>\n",
       "<p>614 rows × 13 columns</p>\n",
       "</div>"
      ],
      "text/plain": [
       "      Loan_ID  Gender Married Dependents     Education Self_Employed  \\\n",
       "0    LP001002    Male      No          0      Graduate            No   \n",
       "1    LP001003    Male     Yes          1      Graduate            No   \n",
       "2    LP001005    Male     Yes          0      Graduate           Yes   \n",
       "3    LP001006    Male     Yes          0  Not Graduate            No   \n",
       "4    LP001008    Male      No          0      Graduate            No   \n",
       "..        ...     ...     ...        ...           ...           ...   \n",
       "609  LP002978  Female      No          0      Graduate            No   \n",
       "610  LP002979    Male     Yes         3+      Graduate            No   \n",
       "611  LP002983    Male     Yes          1      Graduate            No   \n",
       "612  LP002984    Male     Yes          2      Graduate            No   \n",
       "613  LP002990  Female      No          0      Graduate           Yes   \n",
       "\n",
       "     ApplicantIncome  CoapplicantIncome  LoanAmount  Loan_Amount_Term  \\\n",
       "0               5849                0.0         NaN             360.0   \n",
       "1               4583             1508.0       128.0             360.0   \n",
       "2               3000                0.0        66.0             360.0   \n",
       "3               2583             2358.0       120.0             360.0   \n",
       "4               6000                0.0       141.0             360.0   \n",
       "..               ...                ...         ...               ...   \n",
       "609             2900                0.0        71.0             360.0   \n",
       "610             4106                0.0        40.0             180.0   \n",
       "611             8072              240.0       253.0             360.0   \n",
       "612             7583                0.0       187.0             360.0   \n",
       "613             4583                0.0       133.0             360.0   \n",
       "\n",
       "     Credit_History Property_Area Loan_Status  \n",
       "0               1.0         Urban           Y  \n",
       "1               1.0         Rural           N  \n",
       "2               1.0         Urban           Y  \n",
       "3               1.0         Urban           Y  \n",
       "4               1.0         Urban           Y  \n",
       "..              ...           ...         ...  \n",
       "609             1.0         Rural           Y  \n",
       "610             1.0         Rural           Y  \n",
       "611             1.0         Urban           Y  \n",
       "612             1.0         Urban           Y  \n",
       "613             0.0     Semiurban           N  \n",
       "\n",
       "[614 rows x 13 columns]"
      ]
     },
     "execution_count": 3,
     "metadata": {},
     "output_type": "execute_result"
    }
   ],
   "source": [
    "df"
   ]
  },
  {
   "cell_type": "code",
   "execution_count": 4,
   "id": "cc9b65bc",
   "metadata": {},
   "outputs": [
    {
     "data": {
      "text/html": [
       "<div>\n",
       "<style scoped>\n",
       "    .dataframe tbody tr th:only-of-type {\n",
       "        vertical-align: middle;\n",
       "    }\n",
       "\n",
       "    .dataframe tbody tr th {\n",
       "        vertical-align: top;\n",
       "    }\n",
       "\n",
       "    .dataframe thead th {\n",
       "        text-align: right;\n",
       "    }\n",
       "</style>\n",
       "<table border=\"1\" class=\"dataframe\">\n",
       "  <thead>\n",
       "    <tr style=\"text-align: right;\">\n",
       "      <th></th>\n",
       "      <th>Loan_ID</th>\n",
       "      <th>Gender</th>\n",
       "      <th>Married</th>\n",
       "      <th>Dependents</th>\n",
       "      <th>Education</th>\n",
       "      <th>Self_Employed</th>\n",
       "      <th>ApplicantIncome</th>\n",
       "      <th>CoapplicantIncome</th>\n",
       "      <th>LoanAmount</th>\n",
       "      <th>Loan_Amount_Term</th>\n",
       "      <th>Credit_History</th>\n",
       "      <th>Property_Area</th>\n",
       "      <th>Loan_Status</th>\n",
       "    </tr>\n",
       "  </thead>\n",
       "  <tbody>\n",
       "    <tr>\n",
       "      <th>0</th>\n",
       "      <td>LP001002</td>\n",
       "      <td>Male</td>\n",
       "      <td>No</td>\n",
       "      <td>0</td>\n",
       "      <td>Graduate</td>\n",
       "      <td>No</td>\n",
       "      <td>5849</td>\n",
       "      <td>0.0</td>\n",
       "      <td>NaN</td>\n",
       "      <td>360.0</td>\n",
       "      <td>1.0</td>\n",
       "      <td>Urban</td>\n",
       "      <td>Y</td>\n",
       "    </tr>\n",
       "    <tr>\n",
       "      <th>1</th>\n",
       "      <td>LP001003</td>\n",
       "      <td>Male</td>\n",
       "      <td>Yes</td>\n",
       "      <td>1</td>\n",
       "      <td>Graduate</td>\n",
       "      <td>No</td>\n",
       "      <td>4583</td>\n",
       "      <td>1508.0</td>\n",
       "      <td>128.0</td>\n",
       "      <td>360.0</td>\n",
       "      <td>1.0</td>\n",
       "      <td>Rural</td>\n",
       "      <td>N</td>\n",
       "    </tr>\n",
       "    <tr>\n",
       "      <th>2</th>\n",
       "      <td>LP001005</td>\n",
       "      <td>Male</td>\n",
       "      <td>Yes</td>\n",
       "      <td>0</td>\n",
       "      <td>Graduate</td>\n",
       "      <td>Yes</td>\n",
       "      <td>3000</td>\n",
       "      <td>0.0</td>\n",
       "      <td>66.0</td>\n",
       "      <td>360.0</td>\n",
       "      <td>1.0</td>\n",
       "      <td>Urban</td>\n",
       "      <td>Y</td>\n",
       "    </tr>\n",
       "    <tr>\n",
       "      <th>3</th>\n",
       "      <td>LP001006</td>\n",
       "      <td>Male</td>\n",
       "      <td>Yes</td>\n",
       "      <td>0</td>\n",
       "      <td>Not Graduate</td>\n",
       "      <td>No</td>\n",
       "      <td>2583</td>\n",
       "      <td>2358.0</td>\n",
       "      <td>120.0</td>\n",
       "      <td>360.0</td>\n",
       "      <td>1.0</td>\n",
       "      <td>Urban</td>\n",
       "      <td>Y</td>\n",
       "    </tr>\n",
       "    <tr>\n",
       "      <th>4</th>\n",
       "      <td>LP001008</td>\n",
       "      <td>Male</td>\n",
       "      <td>No</td>\n",
       "      <td>0</td>\n",
       "      <td>Graduate</td>\n",
       "      <td>No</td>\n",
       "      <td>6000</td>\n",
       "      <td>0.0</td>\n",
       "      <td>141.0</td>\n",
       "      <td>360.0</td>\n",
       "      <td>1.0</td>\n",
       "      <td>Urban</td>\n",
       "      <td>Y</td>\n",
       "    </tr>\n",
       "  </tbody>\n",
       "</table>\n",
       "</div>"
      ],
      "text/plain": [
       "    Loan_ID Gender Married Dependents     Education Self_Employed  \\\n",
       "0  LP001002   Male      No          0      Graduate            No   \n",
       "1  LP001003   Male     Yes          1      Graduate            No   \n",
       "2  LP001005   Male     Yes          0      Graduate           Yes   \n",
       "3  LP001006   Male     Yes          0  Not Graduate            No   \n",
       "4  LP001008   Male      No          0      Graduate            No   \n",
       "\n",
       "   ApplicantIncome  CoapplicantIncome  LoanAmount  Loan_Amount_Term  \\\n",
       "0             5849                0.0         NaN             360.0   \n",
       "1             4583             1508.0       128.0             360.0   \n",
       "2             3000                0.0        66.0             360.0   \n",
       "3             2583             2358.0       120.0             360.0   \n",
       "4             6000                0.0       141.0             360.0   \n",
       "\n",
       "   Credit_History Property_Area Loan_Status  \n",
       "0             1.0         Urban           Y  \n",
       "1             1.0         Rural           N  \n",
       "2             1.0         Urban           Y  \n",
       "3             1.0         Urban           Y  \n",
       "4             1.0         Urban           Y  "
      ]
     },
     "execution_count": 4,
     "metadata": {},
     "output_type": "execute_result"
    }
   ],
   "source": [
    "df.head()"
   ]
  },
  {
   "cell_type": "code",
   "execution_count": 5,
   "id": "ca6b2935",
   "metadata": {},
   "outputs": [
    {
     "data": {
      "text/plain": [
       "Index(['Loan_ID', 'Gender', 'Married', 'Dependents', 'Education',\n",
       "       'Self_Employed', 'ApplicantIncome', 'CoapplicantIncome', 'LoanAmount',\n",
       "       'Loan_Amount_Term', 'Credit_History', 'Property_Area', 'Loan_Status'],\n",
       "      dtype='object')"
      ]
     },
     "execution_count": 5,
     "metadata": {},
     "output_type": "execute_result"
    }
   ],
   "source": [
    "df.columns"
   ]
  },
  {
   "cell_type": "code",
   "execution_count": 6,
   "id": "a52db4dd",
   "metadata": {},
   "outputs": [
    {
     "data": {
      "text/plain": [
       "(614, 13)"
      ]
     },
     "execution_count": 6,
     "metadata": {},
     "output_type": "execute_result"
    }
   ],
   "source": [
    "df.shape"
   ]
  },
  {
   "cell_type": "markdown",
   "id": "ddf58648",
   "metadata": {},
   "source": [
    "Feature Columns:\n",
    "Loan_ID : loan application id (unique for all applicant)\n",
    "\n",
    "Gender : Gender of the applicant (male/female)\n",
    "\n",
    "Married : marital status of the applicant (Yes/No)\n",
    "\n",
    "Dependents : Number of dependents on the applicant\n",
    "\n",
    "Education : Education level of the applicant\n",
    "\n",
    "Self_Employed : Shows if the applicant is self employed or not\n",
    "\n",
    "ApplicantIncome : Income of the applicant\n",
    "\n",
    "CoapplicantIncome : Income of the coapplicant\n",
    "\n",
    "LoanAmount : loan amount\n",
    "\n",
    "Loan_Amount_Term : term of loan in months\n",
    "\n",
    "Credit_History : credit history of the applicant\n",
    "\n",
    "Property_Area : property area of the applicant (Urban/Semi-urban/rural)\n",
    "\n",
    "Target Column:\n",
    "Loan_Status : the loan is approved or not."
   ]
  },
  {
   "cell_type": "code",
   "execution_count": 7,
   "id": "92310ef2",
   "metadata": {
    "scrolled": true
   },
   "outputs": [
    {
     "data": {
      "text/plain": [
       "Loan_ID               0\n",
       "Gender               13\n",
       "Married               3\n",
       "Dependents           15\n",
       "Education             0\n",
       "Self_Employed        32\n",
       "ApplicantIncome       0\n",
       "CoapplicantIncome     0\n",
       "LoanAmount           22\n",
       "Loan_Amount_Term     14\n",
       "Credit_History       50\n",
       "Property_Area         0\n",
       "Loan_Status           0\n",
       "dtype: int64"
      ]
     },
     "execution_count": 7,
     "metadata": {},
     "output_type": "execute_result"
    }
   ],
   "source": [
    " df.isnull().sum()"
   ]
  },
  {
   "cell_type": "markdown",
   "id": "71db99fb",
   "metadata": {},
   "source": [
    "Missing Value present in Dataset."
   ]
  },
  {
   "cell_type": "code",
   "execution_count": 8,
   "id": "ae738a85",
   "metadata": {},
   "outputs": [
    {
     "name": "stdout",
     "output_type": "stream",
     "text": [
      "<class 'pandas.core.frame.DataFrame'>\n",
      "RangeIndex: 614 entries, 0 to 613\n",
      "Data columns (total 13 columns):\n",
      " #   Column             Non-Null Count  Dtype  \n",
      "---  ------             --------------  -----  \n",
      " 0   Loan_ID            614 non-null    object \n",
      " 1   Gender             601 non-null    object \n",
      " 2   Married            611 non-null    object \n",
      " 3   Dependents         599 non-null    object \n",
      " 4   Education          614 non-null    object \n",
      " 5   Self_Employed      582 non-null    object \n",
      " 6   ApplicantIncome    614 non-null    int64  \n",
      " 7   CoapplicantIncome  614 non-null    float64\n",
      " 8   LoanAmount         592 non-null    float64\n",
      " 9   Loan_Amount_Term   600 non-null    float64\n",
      " 10  Credit_History     564 non-null    float64\n",
      " 11  Property_Area      614 non-null    object \n",
      " 12  Loan_Status        614 non-null    object \n",
      "dtypes: float64(4), int64(1), object(8)\n",
      "memory usage: 62.5+ KB\n"
     ]
    }
   ],
   "source": [
    "df.info()"
   ]
  },
  {
   "cell_type": "markdown",
   "id": "2fbd4a68",
   "metadata": {},
   "source": [
    "# Column Data Types:\n",
    "4 columns are of type float64.\n",
    "\n",
    "1 column is of type int64.\n",
    "\n",
    "8 columns are of type object.\n"
   ]
  },
  {
   "cell_type": "markdown",
   "id": "80dd94bb",
   "metadata": {},
   "source": [
    "# Overview of Missing Values:\n",
    "Gender: 13 missing values.\n",
    "\n",
    "Married: 3 missing values.\n",
    "\n",
    "Dependents: 15 missing values.\n",
    "\n",
    "Self_Employed: 32 missing values.\n",
    "\n",
    "LoanAmount: 22 missing values.\n",
    "\n",
    "Loan_Amount_Term: 14 missing values.\n",
    "\n",
    "Credit_History: 50 missing values."
   ]
  },
  {
   "cell_type": "markdown",
   "id": "609ec019",
   "metadata": {},
   "source": [
    "Given this information, here's a breakdown of the columns:\n"
   ]
  },
  {
   "cell_type": "markdown",
   "id": "5706e57f",
   "metadata": {},
   "source": [
    "# Numerical Data:"
   ]
  },
  {
   "cell_type": "markdown",
   "id": "a66a87c6",
   "metadata": {},
   "source": [
    "ApplicantIncome: int64.\n",
    "    \n",
    "CoapplicantIncome, LoanAmount, Loan_Amount_Term, Credit_History: float64."
   ]
  },
  {
   "cell_type": "markdown",
   "id": "50d3650d",
   "metadata": {},
   "source": [
    "# Categorical/Object Data:\n",
    "\n",
    "Loan_ID, Gender, Married, Dependents, Education, Self_Employed, Property_Area, Loan_Status: object."
   ]
  },
  {
   "cell_type": "markdown",
   "id": "610a822e",
   "metadata": {},
   "source": [
    "# Analysis of Target Volume"
   ]
  },
  {
   "cell_type": "code",
   "execution_count": 9,
   "id": "28ec609e",
   "metadata": {},
   "outputs": [
    {
     "name": "stdout",
     "output_type": "stream",
     "text": [
      "Y    422\n",
      "N    192\n",
      "Name: Loan_Status, dtype: int64\n"
     ]
    },
    {
     "data": {
      "image/png": "[encoded data removed]",
      "text/plain": [
       "<Figure size 600x400 with 1 Axes>"
      ]
     },
     "metadata": {},
     "output_type": "display_data"
    }
   ],
   "source": [
    "# Assuming 'data' is your DataFrame\n",
    "loan_status_counts = df['Loan_Status'].value_counts()\n",
    "\n",
    "# Display the counts\n",
    "print(loan_status_counts)\n",
    "\n",
    "# Plotting a bar chart\n",
    "plt.figure(figsize=(6, 4))\n",
    "loan_status_counts.plot(kind='bar', color=['green', 'red'])\n",
    "plt.title('Loan Approval Status Distribution')\n",
    "plt.xlabel('Loan Status')\n",
    "plt.ylabel('Count')\n",
    "plt.xticks(rotation=0) \n",
    "plt.show()"
   ]
  },
  {
   "cell_type": "markdown",
   "id": "6df099b3",
   "metadata": {},
   "source": [
    "This shows an imbalance in the dataset regarding loan approval status, where the number of approved (Y) applications significantly outweighs the number of rejected (N) applications."
   ]
  },
  {
   "cell_type": "markdown",
   "id": "1b2118ec",
   "metadata": {},
   "source": [
    "# Handling Missing Value"
   ]
  },
  {
   "cell_type": "markdown",
   "id": "d6def537",
   "metadata": {},
   "source": [
    "1.Analyze 'Gender' column\n"
   ]
  },
  {
   "cell_type": "code",
   "execution_count": 10,
   "id": "b9c8b56c",
   "metadata": {},
   "outputs": [
    {
     "name": "stdout",
     "output_type": "stream",
     "text": [
      "Gender Counts Before Filling Missing Values:\n",
      "Male      489\n",
      "Female    112\n",
      "Name: Gender, dtype: int64\n"
     ]
    },
    {
     "data": {
      "image/png": "[encoded data removed]",
      "text/plain": [
       "<Figure size 600x400 with 1 Axes>"
      ]
     },
     "metadata": {},
     "output_type": "display_data"
    }
   ],
   "source": [
    "# Display counts of each gender category\n",
    "gender_counts = df['Gender'].value_counts()\n",
    "print(\"Gender Counts Before Filling Missing Values:\")\n",
    "print(gender_counts)\n",
    "\n",
    "# Plotting the current distribution of 'Gender'\n",
    "plt.figure(figsize=(6, 4))\n",
    "gender_counts.plot(kind='bar', color='skyblue')\n",
    "plt.title('Current Gender Distribution')\n",
    "plt.xlabel('Gender')\n",
    "plt.ylabel('Count')\n",
    "plt.xticks(rotation=0)\n",
    "plt.show()"
   ]
  },
  {
   "cell_type": "markdown",
   "id": "9a18f8af",
   "metadata": {},
   "source": [
    "Replace Gender column with the mode."
   ]
  },
  {
   "cell_type": "markdown",
   "id": "0db83ac7",
   "metadata": {},
   "source": [
    "Here male present in higher number.so replace it with male"
   ]
  },
  {
   "cell_type": "code",
   "execution_count": 11,
   "id": "5bb1021e",
   "metadata": {},
   "outputs": [],
   "source": [
    "# Fill missing 'Gender' values with the mode (most frequent gender)\n",
    "df['Gender'].fillna('Male', inplace=True)"
   ]
  },
  {
   "cell_type": "markdown",
   "id": "f67c178f",
   "metadata": {},
   "source": [
    "2.Analyze 'Married' column"
   ]
  },
  {
   "cell_type": "code",
   "execution_count": 12,
   "id": "4319fefb",
   "metadata": {},
   "outputs": [
    {
     "name": "stdout",
     "output_type": "stream",
     "text": [
      "Married before Filling Missing Values:\n",
      "Male      489\n",
      "Female    112\n",
      "Name: Gender, dtype: int64\n"
     ]
    },
    {
     "data": {
      "image/png": "[encoded data removed]",
      "text/plain": [
       "<Figure size 600x400 with 1 Axes>"
      ]
     },
     "metadata": {},
     "output_type": "display_data"
    }
   ],
   "source": [
    "# Display counts of each Married category\n",
    "Married_counts = df['Married'].value_counts()\n",
    "print(\"Married before Filling Missing Values:\")\n",
    "print(gender_counts)\n",
    "\n",
    "# Plotting the current distribution of 'Married'\n",
    "plt.figure(figsize=(6, 4))\n",
    "Married_counts.plot(kind='bar', color='skyblue')\n",
    "plt.title('Current Married Distribution')\n",
    "plt.xlabel('Married')\n",
    "plt.ylabel('Count')\n",
    "plt.xticks(rotation=0)\n",
    "plt.show()"
   ]
  },
  {
   "cell_type": "markdown",
   "id": "2b707a3d",
   "metadata": {},
   "source": [
    "Replace married column with the mode.\n",
    "\n",
    "Here male present in higher number.so replace it with Yes"
   ]
  },
  {
   "cell_type": "code",
   "execution_count": 13,
   "id": "988e3ef8",
   "metadata": {},
   "outputs": [],
   "source": [
    " #Fill missing 'Married' values with the mode \n",
    "df['Married'].fillna('Yes', inplace=True)"
   ]
  },
  {
   "cell_type": "markdown",
   "id": "5c43abf9",
   "metadata": {},
   "source": [
    "3.Analyze 'Dependents' column"
   ]
  },
  {
   "cell_type": "markdown",
   "id": "0ec540a0",
   "metadata": {},
   "source": [
    "Replace Dependentscolumn with the mode."
   ]
  },
  {
   "cell_type": "code",
   "execution_count": 14,
   "id": "b9665972",
   "metadata": {},
   "outputs": [
    {
     "data": {
      "text/plain": [
       "0     345\n",
       "1     102\n",
       "2     101\n",
       "3+     51\n",
       "Name: Dependents, dtype: int64"
      ]
     },
     "execution_count": 14,
     "metadata": {},
     "output_type": "execute_result"
    }
   ],
   "source": [
    "# Checking for the value counts.\n",
    "\n",
    "df['Dependents'].value_counts()"
   ]
  },
  {
   "cell_type": "code",
   "execution_count": 15,
   "id": "899fbe3f",
   "metadata": {},
   "outputs": [
    {
     "name": "stdout",
     "output_type": "stream",
     "text": [
      "Dependent before Filling Missing Values:\n",
      "0     345\n",
      "1     102\n",
      "2     101\n",
      "3+     51\n",
      "Name: Dependents, dtype: int64\n"
     ]
    },
    {
     "data": {
      "image/png": "[encoded data removed]",
      "text/plain": [
       "<Figure size 600x400 with 1 Axes>"
      ]
     },
     "metadata": {},
     "output_type": "display_data"
    }
   ],
   "source": [
    "# Display counts of each Dependents'category\n",
    "Dependents_counts = df['Dependents'].value_counts()                      \n",
    "print(\"Dependent before Filling Missing Values:\")\n",
    "print(Dependents_counts)\n",
    "\n",
    "# Plotting the current distribution of 'Dependents'\n",
    "plt.figure(figsize=(6, 4))\n",
    "Dependents_counts.plot(kind='bar', color='skyblue')\n",
    "plt.title('Current Dependents Distribution')\n",
    "plt.xlabel('Dependents')\n",
    "plt.ylabel('Count')\n",
    "plt.xticks(rotation=0)\n",
    "plt.show()"
   ]
  },
  {
   "cell_type": "markdown",
   "id": "1f7b5ed9",
   "metadata": {},
   "source": [
    "After observation Dependents is 0 for most of the applicants, so we'll replace the missing values as 0 dependents."
   ]
  },
  {
   "cell_type": "code",
   "execution_count": 16,
   "id": "0963e9c1",
   "metadata": {},
   "outputs": [],
   "source": [
    "#Fill missing 'Married' values with the mode \n",
    "df['Dependents'].fillna('0', inplace=True)"
   ]
  },
  {
   "cell_type": "markdown",
   "id": "5b4e8532",
   "metadata": {},
   "source": [
    "4. Analyze 'Self_Employed'column"
   ]
  },
  {
   "cell_type": "markdown",
   "id": "ef5b23d8",
   "metadata": {},
   "source": [
    "Replace self_employedcolumn with the mode."
   ]
  },
  {
   "cell_type": "markdown",
   "id": "4de96d96",
   "metadata": {},
   "source": [
    "Replace Dependentscolumn with the mode."
   ]
  },
  {
   "cell_type": "code",
   "execution_count": 17,
   "id": "f03d26cb",
   "metadata": {},
   "outputs": [
    {
     "data": {
      "text/plain": [
       "No     500\n",
       "Yes     82\n",
       "Name: Self_Employed, dtype: int64"
      ]
     },
     "execution_count": 17,
     "metadata": {},
     "output_type": "execute_result"
    }
   ],
   "source": [
    "# Checking for the value counts.\n",
    "\n",
    "df['Self_Employed'].value_counts()"
   ]
  },
  {
   "cell_type": "code",
   "execution_count": 18,
   "id": "bee1b892",
   "metadata": {},
   "outputs": [
    {
     "name": "stdout",
     "output_type": "stream",
     "text": [
      "Self_Employed before Filling Missing Values:\n",
      "Male      489\n",
      "Female    112\n",
      "Name: Gender, dtype: int64\n"
     ]
    },
    {
     "data": {
      "image/png": "[encoded data removed]",
      "text/plain": [
       "<Figure size 600x400 with 1 Axes>"
      ]
     },
     "metadata": {},
     "output_type": "display_data"
    }
   ],
   "source": [
    "# Display counts of each'Self_Employed 'category\n",
    "Dependents_counts = df['Self_Employed'].value_counts()                      \n",
    "print(\"Self_Employed before Filling Missing Values:\")\n",
    "print(gender_counts)\n",
    "\n",
    "# Plotting the current distribution of 'Self_Employed'\n",
    "plt.figure(figsize=(6, 4))\n",
    "Dependents_counts.plot(kind='bar', color='skyblue')\n",
    "plt.title('Current Self_Employed Distribution')\n",
    "plt.xlabel('Self_Employed')\n",
    "plt.ylabel('Count')\n",
    "plt.xticks(rotation=0)\n",
    "plt.show()"
   ]
  },
  {
   "cell_type": "markdown",
   "id": "b28fca27",
   "metadata": {},
   "source": [
    "After observation,self employed applicants is less, so we'll replace the missing values with 'No'"
   ]
  },
  {
   "cell_type": "code",
   "execution_count": 19,
   "id": "c3bc9615",
   "metadata": {},
   "outputs": [],
   "source": [
    "# Replacing the missing values.\n",
    "\n",
    "df['Self_Employed'].fillna('No', inplace=True)"
   ]
  },
  {
   "cell_type": "markdown",
   "id": "f96ad5cb",
   "metadata": {},
   "source": [
    "5.Analyze 'LoanAmount' column\n",
    "\n",
    "Replace LoanAmount column with mean value"
   ]
  },
  {
   "cell_type": "code",
   "execution_count": 20,
   "id": "d1cbb271",
   "metadata": {},
   "outputs": [
    {
     "data": {
      "text/plain": [
       "146.41216216216216"
      ]
     },
     "execution_count": 20,
     "metadata": {},
     "output_type": "execute_result"
    }
   ],
   "source": [
    "# Checking for the mean\n",
    "\n",
    "df['LoanAmount'].mean()"
   ]
  },
  {
   "cell_type": "code",
   "execution_count": 21,
   "id": "974f9192",
   "metadata": {},
   "outputs": [],
   "source": [
    "# Replacing the missing values with the mean value.\n",
    "\n",
    "df['LoanAmount'].fillna(df['LoanAmount'].mean(), inplace=True)"
   ]
  },
  {
   "cell_type": "markdown",
   "id": "dcbeb0e5",
   "metadata": {},
   "source": [
    "Analyze 'Loan_Amount_Term' column\n",
    "\n",
    "Replace  Loan_Amount_Term column with the median value."
   ]
  },
  {
   "cell_type": "code",
   "execution_count": 22,
   "id": "2e15ec7d",
   "metadata": {},
   "outputs": [
    {
     "data": {
      "text/plain": [
       "360.0"
      ]
     },
     "execution_count": 22,
     "metadata": {},
     "output_type": "execute_result"
    }
   ],
   "source": [
    "# Checking for the mean.\n",
    "\n",
    "df['Loan_Amount_Term'].median()"
   ]
  },
  {
   "cell_type": "code",
   "execution_count": 23,
   "id": "1216c468",
   "metadata": {},
   "outputs": [
    {
     "data": {
      "image/png": "[encoded data removed]",
      "text/plain": [
       "<Figure size 800x600 with 1 Axes>"
      ]
     },
     "metadata": {},
     "output_type": "display_data"
    }
   ],
   "source": [
    "plt.figure(figsize=[8,6])\n",
    "sns.countplot(x='Loan_Amount_Term', data=df)\n",
    "plt.ylabel('Count')\n",
    "plt.xlabel('Loan Amount Term')\n",
    "plt.title('Distribution of Loan Amount Term')\n",
    "plt.show()"
   ]
  },
  {
   "cell_type": "code",
   "execution_count": 24,
   "id": "66c98a15",
   "metadata": {},
   "outputs": [],
   "source": [
    "# Replacing the missing values with the median\n",
    "\n",
    "df['Loan_Amount_Term'].fillna(df['Loan_Amount_Term'].median(), inplace=True)"
   ]
  },
  {
   "cell_type": "markdown",
   "id": "79ce5457",
   "metadata": {},
   "source": [
    "Analyze'Credit_History' column\n",
    "\n",
    " Replace the 'Credit_History column' with the mode."
   ]
  },
  {
   "cell_type": "code",
   "execution_count": 25,
   "id": "d1d7ef66",
   "metadata": {},
   "outputs": [
    {
     "data": {
      "text/plain": [
       "1.0    475\n",
       "0.0     89\n",
       "Name: Credit_History, dtype: int64"
      ]
     },
     "execution_count": 25,
     "metadata": {},
     "output_type": "execute_result"
    }
   ],
   "source": [
    "# Checking for the value count.\n",
    "\n",
    "df['Credit_History'].value_counts()"
   ]
  },
  {
   "cell_type": "code",
   "execution_count": 26,
   "id": "e6bcc6e5",
   "metadata": {},
   "outputs": [
    {
     "data": {
      "image/png": "[encoded data removed]",
      "text/plain": [
       "<Figure size 800x600 with 1 Axes>"
      ]
     },
     "metadata": {},
     "output_type": "display_data"
    }
   ],
   "source": [
    "plt.figure(figsize=(8, 6))\n",
    "df['Credit_History'].value_counts().plot(kind='bar', color='skyblue')\n",
    "plt.title('Credit History Value Counts')\n",
    "plt.xlabel('Credit History')\n",
    "plt.ylabel('Count')\n",
    "plt.show()"
   ]
  },
  {
   "cell_type": "markdown",
   "id": "4cae306f",
   "metadata": {},
   "source": [
    " Most of the applicant has the Credit_History as 1.0. So, we'll replace the missing values with 1.0"
   ]
  },
  {
   "cell_type": "code",
   "execution_count": 27,
   "id": "d98c05ad",
   "metadata": {},
   "outputs": [],
   "source": [
    "# Replacing the missing values.\n",
    "\n",
    "df['Credit_History'].fillna('1.0', inplace=True)"
   ]
  },
  {
   "cell_type": "code",
   "execution_count": 28,
   "id": "819f62ec",
   "metadata": {},
   "outputs": [
    {
     "data": {
      "text/plain": [
       "Loan_ID              0\n",
       "Gender               0\n",
       "Married              0\n",
       "Dependents           0\n",
       "Education            0\n",
       "Self_Employed        0\n",
       "ApplicantIncome      0\n",
       "CoapplicantIncome    0\n",
       "LoanAmount           0\n",
       "Loan_Amount_Term     0\n",
       "Credit_History       0\n",
       "Property_Area        0\n",
       "Loan_Status          0\n",
       "dtype: int64"
      ]
     },
     "execution_count": 28,
     "metadata": {},
     "output_type": "execute_result"
    }
   ],
   "source": [
    "# Checking for the missing values again:\n",
    "\n",
    "df.isnull().sum()"
   ]
  },
  {
   "cell_type": "markdown",
   "id": "64d7d323",
   "metadata": {},
   "source": [
    "After removal no null value is present"
   ]
  },
  {
   "cell_type": "markdown",
   "id": "a9cddb5c",
   "metadata": {},
   "source": [
    "# Label Encoding for Categorical Value"
   ]
  },
  {
   "cell_type": "code",
   "execution_count": 29,
   "id": "e42f42ce",
   "metadata": {},
   "outputs": [],
   "source": [
    "# Columns to be label encoded\n",
    "columns_to_encode = ['Loan_ID', 'Gender', 'Married', 'Dependents', 'Education', 'Self_Employed', 'Property_Area', 'Loan_Status']\n",
    "\n",
    "label_encoder = LabelEncoder()\n",
    "\n",
    "# Label encode specified columns\n",
    "for col in columns_to_encode:\n",
    "    df[col] = label_encoder.fit_transform(df[col])\n",
    "\n"
   ]
  },
  {
   "cell_type": "code",
   "execution_count": 30,
   "id": "ad062d4a",
   "metadata": {},
   "outputs": [
    {
     "data": {
      "text/html": [
       "<div>\n",
       "<style scoped>\n",
       "    .dataframe tbody tr th:only-of-type {\n",
       "        vertical-align: middle;\n",
       "    }\n",
       "\n",
       "    .dataframe tbody tr th {\n",
       "        vertical-align: top;\n",
       "    }\n",
       "\n",
       "    .dataframe thead th {\n",
       "        text-align: right;\n",
       "    }\n",
       "</style>\n",
       "<table border=\"1\" class=\"dataframe\">\n",
       "  <thead>\n",
       "    <tr style=\"text-align: right;\">\n",
       "      <th></th>\n",
       "      <th>Loan_ID</th>\n",
       "      <th>Gender</th>\n",
       "      <th>Married</th>\n",
       "      <th>Dependents</th>\n",
       "      <th>Education</th>\n",
       "      <th>Self_Employed</th>\n",
       "      <th>ApplicantIncome</th>\n",
       "      <th>CoapplicantIncome</th>\n",
       "      <th>LoanAmount</th>\n",
       "      <th>Loan_Amount_Term</th>\n",
       "      <th>Credit_History</th>\n",
       "      <th>Property_Area</th>\n",
       "      <th>Loan_Status</th>\n",
       "    </tr>\n",
       "  </thead>\n",
       "  <tbody>\n",
       "    <tr>\n",
       "      <th>0</th>\n",
       "      <td>0</td>\n",
       "      <td>1</td>\n",
       "      <td>0</td>\n",
       "      <td>0</td>\n",
       "      <td>0</td>\n",
       "      <td>0</td>\n",
       "      <td>5849</td>\n",
       "      <td>0.0</td>\n",
       "      <td>146.412162</td>\n",
       "      <td>360.0</td>\n",
       "      <td>1.0</td>\n",
       "      <td>2</td>\n",
       "      <td>1</td>\n",
       "    </tr>\n",
       "    <tr>\n",
       "      <th>1</th>\n",
       "      <td>1</td>\n",
       "      <td>1</td>\n",
       "      <td>1</td>\n",
       "      <td>1</td>\n",
       "      <td>0</td>\n",
       "      <td>0</td>\n",
       "      <td>4583</td>\n",
       "      <td>1508.0</td>\n",
       "      <td>128.000000</td>\n",
       "      <td>360.0</td>\n",
       "      <td>1.0</td>\n",
       "      <td>0</td>\n",
       "      <td>0</td>\n",
       "    </tr>\n",
       "    <tr>\n",
       "      <th>2</th>\n",
       "      <td>2</td>\n",
       "      <td>1</td>\n",
       "      <td>1</td>\n",
       "      <td>0</td>\n",
       "      <td>0</td>\n",
       "      <td>1</td>\n",
       "      <td>3000</td>\n",
       "      <td>0.0</td>\n",
       "      <td>66.000000</td>\n",
       "      <td>360.0</td>\n",
       "      <td>1.0</td>\n",
       "      <td>2</td>\n",
       "      <td>1</td>\n",
       "    </tr>\n",
       "    <tr>\n",
       "      <th>3</th>\n",
       "      <td>3</td>\n",
       "      <td>1</td>\n",
       "      <td>1</td>\n",
       "      <td>0</td>\n",
       "      <td>1</td>\n",
       "      <td>0</td>\n",
       "      <td>2583</td>\n",
       "      <td>2358.0</td>\n",
       "      <td>120.000000</td>\n",
       "      <td>360.0</td>\n",
       "      <td>1.0</td>\n",
       "      <td>2</td>\n",
       "      <td>1</td>\n",
       "    </tr>\n",
       "    <tr>\n",
       "      <th>4</th>\n",
       "      <td>4</td>\n",
       "      <td>1</td>\n",
       "      <td>0</td>\n",
       "      <td>0</td>\n",
       "      <td>0</td>\n",
       "      <td>0</td>\n",
       "      <td>6000</td>\n",
       "      <td>0.0</td>\n",
       "      <td>141.000000</td>\n",
       "      <td>360.0</td>\n",
       "      <td>1.0</td>\n",
       "      <td>2</td>\n",
       "      <td>1</td>\n",
       "    </tr>\n",
       "  </tbody>\n",
       "</table>\n",
       "</div>"
      ],
      "text/plain": [
       "   Loan_ID  Gender  Married  Dependents  Education  Self_Employed  \\\n",
       "0        0       1        0           0          0              0   \n",
       "1        1       1        1           1          0              0   \n",
       "2        2       1        1           0          0              1   \n",
       "3        3       1        1           0          1              0   \n",
       "4        4       1        0           0          0              0   \n",
       "\n",
       "   ApplicantIncome  CoapplicantIncome  LoanAmount  Loan_Amount_Term  \\\n",
       "0             5849                0.0  146.412162             360.0   \n",
       "1             4583             1508.0  128.000000             360.0   \n",
       "2             3000                0.0   66.000000             360.0   \n",
       "3             2583             2358.0  120.000000             360.0   \n",
       "4             6000                0.0  141.000000             360.0   \n",
       "\n",
       "  Credit_History  Property_Area  Loan_Status  \n",
       "0            1.0              2            1  \n",
       "1            1.0              0            0  \n",
       "2            1.0              2            1  \n",
       "3            1.0              2            1  \n",
       "4            1.0              2            1  "
      ]
     },
     "execution_count": 30,
     "metadata": {},
     "output_type": "execute_result"
    }
   ],
   "source": [
    "df.head()"
   ]
  },
  {
   "cell_type": "markdown",
   "id": "5cdaff1f",
   "metadata": {},
   "source": [
    "# Statistical summary"
   ]
  },
  {
   "cell_type": "code",
   "execution_count": 31,
   "id": "e84453f0",
   "metadata": {},
   "outputs": [
    {
     "data": {
      "text/html": [
       "<div>\n",
       "<style scoped>\n",
       "    .dataframe tbody tr th:only-of-type {\n",
       "        vertical-align: middle;\n",
       "    }\n",
       "\n",
       "    .dataframe tbody tr th {\n",
       "        vertical-align: top;\n",
       "    }\n",
       "\n",
       "    .dataframe thead th {\n",
       "        text-align: right;\n",
       "    }\n",
       "</style>\n",
       "<table border=\"1\" class=\"dataframe\">\n",
       "  <thead>\n",
       "    <tr style=\"text-align: right;\">\n",
       "      <th></th>\n",
       "      <th>Loan_ID</th>\n",
       "      <th>Gender</th>\n",
       "      <th>Married</th>\n",
       "      <th>Dependents</th>\n",
       "      <th>Education</th>\n",
       "      <th>Self_Employed</th>\n",
       "      <th>ApplicantIncome</th>\n",
       "      <th>CoapplicantIncome</th>\n",
       "      <th>LoanAmount</th>\n",
       "      <th>Loan_Amount_Term</th>\n",
       "      <th>Property_Area</th>\n",
       "      <th>Loan_Status</th>\n",
       "    </tr>\n",
       "  </thead>\n",
       "  <tbody>\n",
       "    <tr>\n",
       "      <th>count</th>\n",
       "      <td>614.000000</td>\n",
       "      <td>614.000000</td>\n",
       "      <td>614.000000</td>\n",
       "      <td>614.000000</td>\n",
       "      <td>614.000000</td>\n",
       "      <td>614.000000</td>\n",
       "      <td>614.000000</td>\n",
       "      <td>614.000000</td>\n",
       "      <td>614.000000</td>\n",
       "      <td>614.000000</td>\n",
       "      <td>614.000000</td>\n",
       "      <td>614.000000</td>\n",
       "    </tr>\n",
       "    <tr>\n",
       "      <th>mean</th>\n",
       "      <td>306.500000</td>\n",
       "      <td>0.817590</td>\n",
       "      <td>0.653094</td>\n",
       "      <td>0.744300</td>\n",
       "      <td>0.218241</td>\n",
       "      <td>0.133550</td>\n",
       "      <td>5403.459283</td>\n",
       "      <td>1621.245798</td>\n",
       "      <td>146.412162</td>\n",
       "      <td>342.410423</td>\n",
       "      <td>1.037459</td>\n",
       "      <td>0.687296</td>\n",
       "    </tr>\n",
       "    <tr>\n",
       "      <th>std</th>\n",
       "      <td>177.390811</td>\n",
       "      <td>0.386497</td>\n",
       "      <td>0.476373</td>\n",
       "      <td>1.009623</td>\n",
       "      <td>0.413389</td>\n",
       "      <td>0.340446</td>\n",
       "      <td>6109.041673</td>\n",
       "      <td>2926.248369</td>\n",
       "      <td>84.037468</td>\n",
       "      <td>64.428629</td>\n",
       "      <td>0.787482</td>\n",
       "      <td>0.463973</td>\n",
       "    </tr>\n",
       "    <tr>\n",
       "      <th>min</th>\n",
       "      <td>0.000000</td>\n",
       "      <td>0.000000</td>\n",
       "      <td>0.000000</td>\n",
       "      <td>0.000000</td>\n",
       "      <td>0.000000</td>\n",
       "      <td>0.000000</td>\n",
       "      <td>150.000000</td>\n",
       "      <td>0.000000</td>\n",
       "      <td>9.000000</td>\n",
       "      <td>12.000000</td>\n",
       "      <td>0.000000</td>\n",
       "      <td>0.000000</td>\n",
       "    </tr>\n",
       "    <tr>\n",
       "      <th>25%</th>\n",
       "      <td>153.250000</td>\n",
       "      <td>1.000000</td>\n",
       "      <td>0.000000</td>\n",
       "      <td>0.000000</td>\n",
       "      <td>0.000000</td>\n",
       "      <td>0.000000</td>\n",
       "      <td>2877.500000</td>\n",
       "      <td>0.000000</td>\n",
       "      <td>100.250000</td>\n",
       "      <td>360.000000</td>\n",
       "      <td>0.000000</td>\n",
       "      <td>0.000000</td>\n",
       "    </tr>\n",
       "    <tr>\n",
       "      <th>50%</th>\n",
       "      <td>306.500000</td>\n",
       "      <td>1.000000</td>\n",
       "      <td>1.000000</td>\n",
       "      <td>0.000000</td>\n",
       "      <td>0.000000</td>\n",
       "      <td>0.000000</td>\n",
       "      <td>3812.500000</td>\n",
       "      <td>1188.500000</td>\n",
       "      <td>129.000000</td>\n",
       "      <td>360.000000</td>\n",
       "      <td>1.000000</td>\n",
       "      <td>1.000000</td>\n",
       "    </tr>\n",
       "    <tr>\n",
       "      <th>75%</th>\n",
       "      <td>459.750000</td>\n",
       "      <td>1.000000</td>\n",
       "      <td>1.000000</td>\n",
       "      <td>1.000000</td>\n",
       "      <td>0.000000</td>\n",
       "      <td>0.000000</td>\n",
       "      <td>5795.000000</td>\n",
       "      <td>2297.250000</td>\n",
       "      <td>164.750000</td>\n",
       "      <td>360.000000</td>\n",
       "      <td>2.000000</td>\n",
       "      <td>1.000000</td>\n",
       "    </tr>\n",
       "    <tr>\n",
       "      <th>max</th>\n",
       "      <td>613.000000</td>\n",
       "      <td>1.000000</td>\n",
       "      <td>1.000000</td>\n",
       "      <td>3.000000</td>\n",
       "      <td>1.000000</td>\n",
       "      <td>1.000000</td>\n",
       "      <td>81000.000000</td>\n",
       "      <td>41667.000000</td>\n",
       "      <td>700.000000</td>\n",
       "      <td>480.000000</td>\n",
       "      <td>2.000000</td>\n",
       "      <td>1.000000</td>\n",
       "    </tr>\n",
       "  </tbody>\n",
       "</table>\n",
       "</div>"
      ],
      "text/plain": [
       "          Loan_ID      Gender     Married  Dependents   Education  \\\n",
       "count  614.000000  614.000000  614.000000  614.000000  614.000000   \n",
       "mean   306.500000    0.817590    0.653094    0.744300    0.218241   \n",
       "std    177.390811    0.386497    0.476373    1.009623    0.413389   \n",
       "min      0.000000    0.000000    0.000000    0.000000    0.000000   \n",
       "25%    153.250000    1.000000    0.000000    0.000000    0.000000   \n",
       "50%    306.500000    1.000000    1.000000    0.000000    0.000000   \n",
       "75%    459.750000    1.000000    1.000000    1.000000    0.000000   \n",
       "max    613.000000    1.000000    1.000000    3.000000    1.000000   \n",
       "\n",
       "       Self_Employed  ApplicantIncome  CoapplicantIncome  LoanAmount  \\\n",
       "count     614.000000       614.000000         614.000000  614.000000   \n",
       "mean        0.133550      5403.459283        1621.245798  146.412162   \n",
       "std         0.340446      6109.041673        2926.248369   84.037468   \n",
       "min         0.000000       150.000000           0.000000    9.000000   \n",
       "25%         0.000000      2877.500000           0.000000  100.250000   \n",
       "50%         0.000000      3812.500000        1188.500000  129.000000   \n",
       "75%         0.000000      5795.000000        2297.250000  164.750000   \n",
       "max         1.000000     81000.000000       41667.000000  700.000000   \n",
       "\n",
       "       Loan_Amount_Term  Property_Area  Loan_Status  \n",
       "count        614.000000     614.000000   614.000000  \n",
       "mean         342.410423       1.037459     0.687296  \n",
       "std           64.428629       0.787482     0.463973  \n",
       "min           12.000000       0.000000     0.000000  \n",
       "25%          360.000000       0.000000     0.000000  \n",
       "50%          360.000000       1.000000     1.000000  \n",
       "75%          360.000000       2.000000     1.000000  \n",
       "max          480.000000       2.000000     1.000000  "
      ]
     },
     "execution_count": 31,
     "metadata": {},
     "output_type": "execute_result"
    }
   ],
   "source": [
    "df.describe()"
   ]
  },
  {
   "cell_type": "markdown",
   "id": "e9e803a0",
   "metadata": {},
   "source": [
    "# Correlation"
   ]
  },
  {
   "cell_type": "code",
   "execution_count": 32,
   "id": "1bdf255a",
   "metadata": {},
   "outputs": [
    {
     "data": {
      "image/png": "[encoded data removed]",
      "text/plain": [
       "<Figure size 1000x800 with 2 Axes>"
      ]
     },
     "metadata": {},
     "output_type": "display_data"
    }
   ],
   "source": [
    "\n",
    "# Create a correlation matrix\n",
    "corr_matrix = df.corr()\n",
    "\n",
    "# Create a heatmap\n",
    "plt.figure(figsize=(10, 8))\n",
    "sns.heatmap(corr_matrix, annot=True, cmap='coolwarm', fmt='.2f')\n",
    "plt.title('Correlation Matrix Heatmap')\n",
    "plt.show()"
   ]
  },
  {
   "cell_type": "markdown",
   "id": "c032554a",
   "metadata": {},
   "source": [
    "Outcome:"
   ]
  },
  {
   "cell_type": "markdown",
   "id": "69e171c7",
   "metadata": {},
   "source": [
    "Loan_ID: Shows a very weak positive correlation of 1% with the target column. It indicates an almost negligible relationship.\n",
    "    \n",
    "\n",
    "Gender: Displays a very weak positive correlation of 2% with the target column, suggesting a minor but still very low association.\n",
    "    \n",
    "\n",
    "Married: Indicates a moderate positive correlation of 9% with the target column, implying a fair relationship but not highly significant.\n",
    "    \n",
    "\n",
    "Dependents: Shows a very weak positive correlation of 1% with the target column, indicating a minimal relationship.\n",
    "    \n",
    "\n",
    "Education: Exhibits a weak negative correlation of -9% with the target column, suggesting a subtle but negative bond, likely not a strong relationship.\n",
    "    \n",
    "\n",
    "Self_Employed: Shows no correlation (0%) with the target column, implying no linear relationship.\n",
    "    \n",
    "\n",
    "ApplicantIncome: Indicates no correlation (0%) with the target column, suggesting no linear relationship.\n",
    "    \n",
    "\n",
    "CoapplicantIncome: Displays a weak negative correlation of -6% with the target column, indicating a weak negative relationship.\n",
    "    \n",
    "\n",
    "LoanAmount: Shows a weak negative correlation of -4% with the target column, suggesting a subtle negative relationship.\n",
    "    \n",
    "\n",
    "Loan_Amount_Term: Displays a very weak negative correlation of -2% with the target column, suggesting a very minor negative relationship.\n",
    "    \n",
    "\n",
    "Property_Area: Indicates a very weak positive correlation of 3% with the target column, implying a negligible but positive relationship."
   ]
  },
  {
   "cell_type": "markdown",
   "id": "8db68bfd",
   "metadata": {},
   "source": [
    "# Check outliers of numerical Columns"
   ]
  },
  {
   "cell_type": "code",
   "execution_count": 33,
   "id": "33781ace",
   "metadata": {},
   "outputs": [
    {
     "data": {
      "image/png": "[encoded data removed]",
      "text/plain": [
       "<Figure size 1000x800 with 4 Axes>"
      ]
     },
     "metadata": {},
     "output_type": "display_data"
    }
   ],
   "source": [
    "numerical_columns = ['ApplicantIncome', 'CoapplicantIncome', 'LoanAmount', 'Loan_Amount_Term']\n",
    "\n",
    "plt.figure(figsize=(10, 8))\n",
    "\n",
    "for i, column in enumerate(numerical_columns, 1):\n",
    "    plt.subplot(2, 2, i)\n",
    "    sns.boxplot(x=df[column])\n",
    "    plt.title(f'Boxplot of {column}')\n",
    "\n",
    "plt.tight_layout()\n",
    "plt.show()"
   ]
  },
  {
   "cell_type": "markdown",
   "id": "eb18302f",
   "metadata": {},
   "source": [
    "outliers present in this numerical column."
   ]
  },
  {
   "cell_type": "markdown",
   "id": "c8a7e781",
   "metadata": {},
   "source": [
    "# Check Skewness"
   ]
  },
  {
   "cell_type": "code",
   "execution_count": 34,
   "id": "70fdf278",
   "metadata": {},
   "outputs": [
    {
     "data": {
      "text/plain": [
       "Loan_ID              0.000000\n",
       "Gender              -1.648795\n",
       "Married             -0.644850\n",
       "Dependents           1.015551\n",
       "Education            1.367622\n",
       "Self_Employed        2.159796\n",
       "ApplicantIncome      6.539513\n",
       "CoapplicantIncome    7.491531\n",
       "LoanAmount           2.726601\n",
       "Loan_Amount_Term    -2.402112\n",
       "Credit_History      -2.021971\n",
       "Property_Area       -0.066196\n",
       "Loan_Status         -0.809998\n",
       "dtype: float64"
      ]
     },
     "execution_count": 34,
     "metadata": {},
     "output_type": "execute_result"
    }
   ],
   "source": [
    "df.skew()"
   ]
  },
  {
   "cell_type": "markdown",
   "id": "04e6f7a0",
   "metadata": {},
   "source": [
    "skewness are present in the dataset"
   ]
  },
  {
   "cell_type": "markdown",
   "id": "898a2322",
   "metadata": {},
   "source": [
    "# Data Cleaning"
   ]
  },
  {
   "cell_type": "code",
   "execution_count": 35,
   "id": "cc42cc74",
   "metadata": {},
   "outputs": [],
   "source": [
    "# Dropping categorical columns and the target column\n",
    "x = df.drop([\"Loan_ID\", \"Gender\", \"Married\", \"Dependents\", \"Education\", \"Self_Employed\", \"Property_Area\", \"Loan_Status\"], axis=1)\n",
    "y = df[\"Loan_Status\"]\n"
   ]
  },
  {
   "cell_type": "code",
   "execution_count": 36,
   "id": "6ecc096c",
   "metadata": {},
   "outputs": [
    {
     "data": {
      "text/html": [
       "<div>\n",
       "<style scoped>\n",
       "    .dataframe tbody tr th:only-of-type {\n",
       "        vertical-align: middle;\n",
       "    }\n",
       "\n",
       "    .dataframe tbody tr th {\n",
       "        vertical-align: top;\n",
       "    }\n",
       "\n",
       "    .dataframe thead th {\n",
       "        text-align: right;\n",
       "    }\n",
       "</style>\n",
       "<table border=\"1\" class=\"dataframe\">\n",
       "  <thead>\n",
       "    <tr style=\"text-align: right;\">\n",
       "      <th></th>\n",
       "      <th>ApplicantIncome</th>\n",
       "      <th>CoapplicantIncome</th>\n",
       "      <th>LoanAmount</th>\n",
       "      <th>Loan_Amount_Term</th>\n",
       "      <th>Credit_History</th>\n",
       "    </tr>\n",
       "  </thead>\n",
       "  <tbody>\n",
       "    <tr>\n",
       "      <th>0</th>\n",
       "      <td>0.544331</td>\n",
       "      <td>-1.102837</td>\n",
       "      <td>0.235387</td>\n",
       "      <td>0.175540</td>\n",
       "      <td>0.411733</td>\n",
       "    </tr>\n",
       "    <tr>\n",
       "      <th>1</th>\n",
       "      <td>0.170974</td>\n",
       "      <td>0.750578</td>\n",
       "      <td>-0.037659</td>\n",
       "      <td>0.175540</td>\n",
       "      <td>0.411733</td>\n",
       "    </tr>\n",
       "    <tr>\n",
       "      <th>2</th>\n",
       "      <td>-0.499955</td>\n",
       "      <td>-1.102837</td>\n",
       "      <td>-1.346305</td>\n",
       "      <td>0.175540</td>\n",
       "      <td>0.411733</td>\n",
       "    </tr>\n",
       "    <tr>\n",
       "      <th>3</th>\n",
       "      <td>-0.743873</td>\n",
       "      <td>0.891686</td>\n",
       "      <td>-0.167886</td>\n",
       "      <td>0.175540</td>\n",
       "      <td>0.411733</td>\n",
       "    </tr>\n",
       "    <tr>\n",
       "      <th>4</th>\n",
       "      <td>0.582817</td>\n",
       "      <td>-1.102837</td>\n",
       "      <td>0.158610</td>\n",
       "      <td>0.175540</td>\n",
       "      <td>0.411733</td>\n",
       "    </tr>\n",
       "    <tr>\n",
       "      <th>...</th>\n",
       "      <td>...</td>\n",
       "      <td>...</td>\n",
       "      <td>...</td>\n",
       "      <td>...</td>\n",
       "      <td>...</td>\n",
       "    </tr>\n",
       "    <tr>\n",
       "      <th>609</th>\n",
       "      <td>-0.554885</td>\n",
       "      <td>-1.102837</td>\n",
       "      <td>-1.205100</td>\n",
       "      <td>0.175540</td>\n",
       "      <td>0.411733</td>\n",
       "    </tr>\n",
       "    <tr>\n",
       "      <th>610</th>\n",
       "      <td>-0.000290</td>\n",
       "      <td>-1.102837</td>\n",
       "      <td>-2.293317</td>\n",
       "      <td>-2.312879</td>\n",
       "      <td>0.411733</td>\n",
       "    </tr>\n",
       "    <tr>\n",
       "      <th>611</th>\n",
       "      <td>1.023487</td>\n",
       "      <td>0.208603</td>\n",
       "      <td>1.372409</td>\n",
       "      <td>0.175540</td>\n",
       "      <td>0.411733</td>\n",
       "    </tr>\n",
       "    <tr>\n",
       "      <th>612</th>\n",
       "      <td>0.931750</td>\n",
       "      <td>-1.102837</td>\n",
       "      <td>0.738924</td>\n",
       "      <td>0.175540</td>\n",
       "      <td>0.411733</td>\n",
       "    </tr>\n",
       "    <tr>\n",
       "      <th>613</th>\n",
       "      <td>0.170974</td>\n",
       "      <td>-1.102837</td>\n",
       "      <td>0.039936</td>\n",
       "      <td>0.175540</td>\n",
       "      <td>-2.428760</td>\n",
       "    </tr>\n",
       "  </tbody>\n",
       "</table>\n",
       "<p>614 rows × 5 columns</p>\n",
       "</div>"
      ],
      "text/plain": [
       "     ApplicantIncome  CoapplicantIncome  LoanAmount  Loan_Amount_Term  \\\n",
       "0           0.544331          -1.102837    0.235387          0.175540   \n",
       "1           0.170974           0.750578   -0.037659          0.175540   \n",
       "2          -0.499955          -1.102837   -1.346305          0.175540   \n",
       "3          -0.743873           0.891686   -0.167886          0.175540   \n",
       "4           0.582817          -1.102837    0.158610          0.175540   \n",
       "..               ...                ...         ...               ...   \n",
       "609        -0.554885          -1.102837   -1.205100          0.175540   \n",
       "610        -0.000290          -1.102837   -2.293317         -2.312879   \n",
       "611         1.023487           0.208603    1.372409          0.175540   \n",
       "612         0.931750          -1.102837    0.738924          0.175540   \n",
       "613         0.170974          -1.102837    0.039936          0.175540   \n",
       "\n",
       "     Credit_History  \n",
       "0          0.411733  \n",
       "1          0.411733  \n",
       "2          0.411733  \n",
       "3          0.411733  \n",
       "4          0.411733  \n",
       "..              ...  \n",
       "609        0.411733  \n",
       "610        0.411733  \n",
       "611        0.411733  \n",
       "612        0.411733  \n",
       "613       -2.428760  \n",
       "\n",
       "[614 rows x 5 columns]"
      ]
     },
     "execution_count": 36,
     "metadata": {},
     "output_type": "execute_result"
    }
   ],
   "source": [
    "from sklearn.preprocessing import power_transform\n",
    "\n",
    "\n",
    "# Apply power transform to the entire DataFrame 'x'\n",
    "x_transformed = power_transform(x) \n",
    "\n",
    "# Convert the transformed array back to a DataFrame with the original columns\n",
    "x_transformed = pd.DataFrame(x_transformed, columns=x.columns)\n",
    "\n",
    "# Display the transformed data\n",
    "x_transformed\n"
   ]
  },
  {
   "cell_type": "code",
   "execution_count": 37,
   "id": "bff9079e",
   "metadata": {},
   "outputs": [],
   "source": [
    "# Initialize the StandardScaler\n",
    "scaler = StandardScaler()\n",
    "\n",
    "# Fit and transform the entire DataFrame 'x_numerical'\n",
    "x = scaler.fit_transform(x)\n"
   ]
  },
  {
   "cell_type": "code",
   "execution_count": 38,
   "id": "4f77dfb0",
   "metadata": {},
   "outputs": [
    {
     "name": "stdout",
     "output_type": "stream",
     "text": [
      "[[ 0.07299082 -0.55448733  0.          0.2732313   0.41173269]\n",
      " [-0.13441195 -0.03873155 -0.21927331  0.2732313   0.41173269]\n",
      " [-0.39374734 -0.55448733 -0.957641    0.2732313   0.41173269]\n",
      " ...\n",
      " [ 0.43717437 -0.47240418  1.26937121  0.2732313   0.41173269]\n",
      " [ 0.35706382 -0.55448733  0.4833669   0.2732313   0.41173269]\n",
      " [-0.13441195 -0.55448733 -0.15972753  0.2732313  -2.42876026]]\n"
     ]
    }
   ],
   "source": [
    "print(x)"
   ]
  },
  {
   "cell_type": "code",
   "execution_count": 39,
   "id": "07c35286",
   "metadata": {},
   "outputs": [],
   "source": [
    "import pandas as pd\n",
    "from imblearn.over_sampling import SMOTE\n",
    "\n",
    "# Assuming 'x' is your feature matrix and 'y' is your target variable\n",
    "# x contains the features and y contains the target variable (class labels)\n",
    "\n",
    "# Initialize SMOTE\n",
    "smote = SMOTE(random_state=42)\n",
    "\n",
    "# Apply SMOTE to create synthetic samples\n",
    "x_resampled, y_resampled = smote.fit_resample(x, y)\n",
    "\n",
    "\n"
   ]
  },
  {
   "cell_type": "code",
   "execution_count": 40,
   "id": "19cb44b6",
   "metadata": {},
   "outputs": [
    {
     "data": {
      "text/plain": [
       "1    422\n",
       "0    422\n",
       "Name: Loan_Status, dtype: int64"
      ]
     },
     "execution_count": 40,
     "metadata": {},
     "output_type": "execute_result"
    }
   ],
   "source": [
    "y_resampled.value_counts()"
   ]
  },
  {
   "cell_type": "code",
   "execution_count": 42,
   "id": "2dd4f654",
   "metadata": {},
   "outputs": [
    {
     "data": {
      "image/png": "[encoded data removed]",
      "text/plain": [
       "<Figure size 640x480 with 1 Axes>"
      ]
     },
     "metadata": {},
     "output_type": "display_data"
    }
   ],
   "source": [
    "class_distribution_after = y_resampled.value_counts() \n",
    "plt.subplot(1, 2, 2)\n",
    "plt.bar(class_distribution_after.index, class_distribution_after.values)\n",
    "plt.title('Class Distribution After SMOTE')\n",
    "plt.xlabel('Class')\n",
    "plt.ylabel('Count')\n",
    "\n",
    "plt.tight_layout()\n",
    "plt.show()"
   ]
  },
  {
   "cell_type": "markdown",
   "id": "b72c15e5",
   "metadata": {},
   "source": [
    "now label is balanced"
   ]
  },
  {
   "cell_type": "markdown",
   "id": "94b534a0",
   "metadata": {},
   "source": [
    "# Best Random state"
   ]
  },
  {
   "cell_type": "code",
   "execution_count": 44,
   "id": "339286d4",
   "metadata": {},
   "outputs": [
    {
     "name": "stdout",
     "output_type": "stream",
     "text": [
      "The best accuracy is 0.7677725118483413 on Random State 134\n"
     ]
    }
   ],
   "source": [
    "from sklearn.linear_model import LogisticRegression\n",
    "best_accuracy = 0\n",
    "best_random_state = 0\n",
    "\n",
    "for i in range(1, 601):\n",
    "    x_train, x_test, y_train, y_test = train_test_split(x_resampled, y_resampled, test_size=0.25, random_state=i, stratify=y_resampled)\n",
    "    model = LogisticRegression(random_state=42)\n",
    "    model.fit(x_train, y_train)\n",
    "    y_pred = model.predict(x_test)\n",
    "    accuracy = accuracy_score(y_test, y_pred)\n",
    "    \n",
    "    if accuracy > best_accuracy:\n",
    "        best_accuracy = accuracy\n",
    "        best_random_state = i\n",
    "\n",
    "print('The best accuracy is', best_accuracy, 'on Random State', best_random_state)"
   ]
  },
  {
   "cell_type": "code",
   "execution_count": 49,
   "id": "f8a6799e",
   "metadata": {},
   "outputs": [],
   "source": [
    "from sklearn.model_selection import train_test_split\n",
    "\n",
    "# Splitting the resampled data into training and testing sets\n",
    "x_train, x_test, y_train, y_test = train_test_split(x_resampled, y_resampled, test_size=0.25, random_state=134)\n"
   ]
  },
  {
   "cell_type": "markdown",
   "id": "24420f09",
   "metadata": {},
   "source": [
    "# Model Training"
   ]
  },
  {
   "cell_type": "markdown",
   "id": "413e09f9",
   "metadata": {},
   "source": [
    "# Logistic Regression"
   ]
  },
  {
   "cell_type": "code",
   "execution_count": 50,
   "id": "af1ebdee",
   "metadata": {},
   "outputs": [
    {
     "name": "stdout",
     "output_type": "stream",
     "text": [
      "Logistic Regression Model Evaluation:\n",
      "Accuracy: 0.6824644549763034\n",
      "Confusion Matrix:\n",
      " [[ 38  64]\n",
      " [  3 106]]\n",
      "Classification Report:\n",
      "               precision    recall  f1-score   support\n",
      "\n",
      "           0       0.93      0.37      0.53       102\n",
      "           1       0.62      0.97      0.76       109\n",
      "\n",
      "    accuracy                           0.68       211\n",
      "   macro avg       0.78      0.67      0.65       211\n",
      "weighted avg       0.77      0.68      0.65       211\n",
      "\n"
     ]
    }
   ],
   "source": [
    "# Create a Logistic Regression model\n",
    "LR = LogisticRegression()\n",
    "LR.fit(x_train, y_train)\n",
    "\n",
    "# Predict using the test set\n",
    "pred_lr = LR.predict(x_test)\n",
    "\n",
    "# Evaluate the Logistic Regression model\n",
    "print(\"Logistic Regression Model Evaluation:\")\n",
    "print(\"Accuracy:\", accuracy_score(y_test, pred_lr))\n",
    "print(\"Confusion Matrix:\\n\", confusion_matrix(y_test, pred_lr))\n",
    "print(\"Classification Report:\\n\", classification_report(y_test, pred_lr))"
   ]
  },
  {
   "cell_type": "markdown",
   "id": "9d851a8d",
   "metadata": {},
   "source": [
    "# SVC"
   ]
  },
  {
   "cell_type": "code",
   "execution_count": 51,
   "id": "02b32ecc",
   "metadata": {},
   "outputs": [
    {
     "name": "stdout",
     "output_type": "stream",
     "text": [
      "SVC Model Evaluation:\n",
      "Accuracy: 0.6540284360189573\n",
      "Confusion Matrix:\n",
      " [[42 60]\n",
      " [13 96]]\n",
      "Classification Report:\n",
      "               precision    recall  f1-score   support\n",
      "\n",
      "           0       0.76      0.41      0.54       102\n",
      "           1       0.62      0.88      0.72       109\n",
      "\n",
      "    accuracy                           0.65       211\n",
      "   macro avg       0.69      0.65      0.63       211\n",
      "weighted avg       0.69      0.65      0.63       211\n",
      "\n"
     ]
    }
   ],
   "source": [
    "from sklearn.svm import SVC\n",
    "from sklearn.metrics import accuracy_score, confusion_matrix, classification_report\n",
    "\n",
    "# Assuming x_train, y_train, x_test, y_test are defined\n",
    "\n",
    "# Create an SVC model\n",
    "svc = SVC()\n",
    "svc.fit(x_train, y_train)\n",
    "\n",
    "# Predict using the test set\n",
    "pred_svc = svc.predict(x_test)\n",
    "\n",
    "# Evaluate the SVC model\n",
    "print(\"SVC Model Evaluation:\")\n",
    "print(\"Accuracy:\", accuracy_score(y_test, pred_svc))\n",
    "print(\"Confusion Matrix:\\n\", confusion_matrix(y_test, pred_svc))\n",
    "print(\"Classification Report:\\n\", classification_report(y_test, pred_svc))\n"
   ]
  },
  {
   "cell_type": "markdown",
   "id": "703f9727",
   "metadata": {},
   "source": [
    "# DecisionTreeClassifier"
   ]
  },
  {
   "cell_type": "code",
   "execution_count": 52,
   "id": "859aeba9",
   "metadata": {},
   "outputs": [
    {
     "name": "stdout",
     "output_type": "stream",
     "text": [
      "Decision Tree Model Evaluation:\n",
      "Accuracy: 0.6966824644549763\n",
      "Confusion Matrix:\n",
      " [[74 28]\n",
      " [36 73]]\n",
      "Classification Report:\n",
      "               precision    recall  f1-score   support\n",
      "\n",
      "           0       0.67      0.73      0.70       102\n",
      "           1       0.72      0.67      0.70       109\n",
      "\n",
      "    accuracy                           0.70       211\n",
      "   macro avg       0.70      0.70      0.70       211\n",
      "weighted avg       0.70      0.70      0.70       211\n",
      "\n"
     ]
    }
   ],
   "source": [
    "from sklearn.tree import DecisionTreeClassifier\n",
    "from sklearn.metrics import accuracy_score, confusion_matrix, classification_report\n",
    "\n",
    "# Assuming x_train, y_train, x_test, y_test are defined\n",
    "\n",
    "# Create a Decision Tree model\n",
    "dt = DecisionTreeClassifier()\n",
    "dt.fit(x_train, y_train)\n",
    "\n",
    "# Predict using the test set\n",
    "pred_dt = dt.predict(x_test)\n",
    "\n",
    "# Evaluate the Decision Tree model\n",
    "print(\"Decision Tree Model Evaluation:\")\n",
    "print(\"Accuracy:\", accuracy_score(y_test, pred_dt))\n",
    "print(\"Confusion Matrix:\\n\", confusion_matrix(y_test, pred_dt))\n",
    "print(\"Classification Report:\\n\", classification_report(y_test, pred_dt))\n"
   ]
  },
  {
   "cell_type": "markdown",
   "id": "14f09778",
   "metadata": {},
   "source": [
    "# RandomForestClassifier"
   ]
  },
  {
   "cell_type": "code",
   "execution_count": 53,
   "id": "ed02b229",
   "metadata": {},
   "outputs": [
    {
     "name": "stdout",
     "output_type": "stream",
     "text": [
      "Random Forest Model Evaluation:\n",
      "Accuracy: 0.7345971563981043\n",
      "Confusion Matrix:\n",
      " [[68 34]\n",
      " [22 87]]\n",
      "Classification Report:\n",
      "               precision    recall  f1-score   support\n",
      "\n",
      "           0       0.76      0.67      0.71       102\n",
      "           1       0.72      0.80      0.76       109\n",
      "\n",
      "    accuracy                           0.73       211\n",
      "   macro avg       0.74      0.73      0.73       211\n",
      "weighted avg       0.74      0.73      0.73       211\n",
      "\n"
     ]
    }
   ],
   "source": [
    "from sklearn.ensemble import RandomForestClassifier\n",
    "from sklearn.metrics import accuracy_score, confusion_matrix, classification_report\n",
    "\n",
    "# Assuming x_train, y_train, x_test, y_test are defined\n",
    "\n",
    "# Create a Random Forest model\n",
    "rf = RandomForestClassifier()\n",
    "rf.fit(x_train, y_train)\n",
    "\n",
    "# Predict using the test set\n",
    "pred_rf = rf.predict(x_test)\n",
    "\n",
    "# Evaluate the Random Forest model\n",
    "print(\"Random Forest Model Evaluation:\")\n",
    "print(\"Accuracy:\", accuracy_score(y_test, pred_rf))\n",
    "print(\"Confusion Matrix:\\n\", confusion_matrix(y_test, pred_rf))\n",
    "print(\"Classification Report:\\n\", classification_report(y_test, pred_rf))\n"
   ]
  },
  {
   "cell_type": "markdown",
   "id": "38452ba0",
   "metadata": {},
   "source": [
    "# Cross Validation Score For model"
   ]
  },
  {
   "cell_type": "code",
   "execution_count": 54,
   "id": "c6e1ba99",
   "metadata": {},
   "outputs": [
    {
     "name": "stdout",
     "output_type": "stream",
     "text": [
      "Logistic Regression Mean Accuracy: 0.809462881514061\n",
      "Decision Tree Mean Accuracy: 0.7150206584033054\n",
      "Random Forest Mean Accuracy: 0.7801279488204719\n",
      "SVC Mean Accuracy: 0.8012928162068507\n"
     ]
    }
   ],
   "source": [
    "from sklearn.model_selection import cross_val_score\n",
    "\n",
    "# List of classifiers\n",
    "classifiers = {\n",
    "    'Logistic Regression': LogisticRegression(),\n",
    "    'Decision Tree': DecisionTreeClassifier(),\n",
    "    'Random Forest': RandomForestClassifier(),\n",
    "    'SVC': SVC()\n",
    "}\n",
    "\n",
    "\n",
    "for clf_name, clf in classifiers.items():\n",
    "    scores = cross_val_score(clf, x, y, cv=5, scoring='accuracy')  # Assuming 5-fold cross-validation\n",
    "    print(f\"{clf_name} Mean Accuracy:\", scores.mean())\n"
   ]
  },
  {
   "cell_type": "code",
   "execution_count": null,
   "id": "2fb136ea",
   "metadata": {},
   "outputs": [],
   "source": []
  }
 ],
 "metadata": {
  "kernelspec": {
   "display_name": "Python 3 (ipykernel)",
   "language": "python",
   "name": "python3"
  },
  "language_info": {
   "codemirror_mode": {
    "name": "ipython",
    "version": 3
   },
   "file_extension": ".py",
   "mimetype": "text/x-python",
   "name": "python",
   "nbconvert_exporter": "python",
   "pygments_lexer": "ipython3",
   "version": "3.9.13"
  }
 },
 "nbformat": 4,
 "nbformat_minor": 5
}
